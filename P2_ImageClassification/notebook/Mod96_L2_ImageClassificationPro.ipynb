{
  "cells": [
    {
      "cell_type": "markdown",
      "metadata": {
        "id": "s1gQrxtPbxE1"
      },
      "source": [
        "# CV Project2\n",
        "\n",
        "## Image Classification Project\n",
        "\n",
        "```\n",
        "Category - Cat and Dog\n",
        "Tech used - VGGG-16, Roboflow, Keras\n",
        "Techniques - Transfer Learning\n",
        "\n",
        "```\n"
      ]
    },
    {
      "cell_type": "markdown",
      "metadata": {
        "id": "Acvs1Hc7clTH"
      },
      "source": [
        "# Implementation of Transfer Learning in VGG-16 model"
      ]
    },
    {
      "cell_type": "code",
      "execution_count": null,
      "metadata": {
        "colab": {
          "base_uri": "https://localhost:8080/"
        },
        "id": "nT-91k0MbrTa",
        "outputId": "5b82359a-aeff-4c47-a654-54c710bdb3a3"
      },
      "outputs": [
        {
          "ename": "",
          "evalue": "",
          "output_type": "error",
          "traceback": [
            "\u001b[1;31mThe kernel failed to start as the Python Environment 'denv (Python -1.-1.-1)' is no longer available. Consider selecting another kernel or refreshing the list of Python Environments."
          ]
        }
      ],
      "source": [
        "!nvidia-smi"
      ]
    },
    {
      "cell_type": "code",
      "execution_count": null,
      "metadata": {
        "id": "yMpW5xNJbrWP"
      },
      "outputs": [],
      "source": []
    },
    {
      "cell_type": "code",
      "execution_count": null,
      "metadata": {
        "colab": {
          "base_uri": "https://localhost:8080/"
        },
        "id": "sZ60G5KPbrZL",
        "outputId": "208bfccd-595c-4262-e94c-16251f775a88"
      },
      "outputs": [],
      "source": [
        "import tensorflow as tf\n",
        "print(tf.__version__)"
      ]
    },
    {
      "cell_type": "code",
      "execution_count": null,
      "metadata": {
        "id": "1o50448sbrb_"
      },
      "outputs": [],
      "source": [
        "import os\n",
        "import numpy as np\n",
        "from tensorflow.keras.models import Sequential\n",
        "from tensorflow.keras.layers import Dense, Flatten\n",
        "from tensorflow.keras.models import Model, load_model\n",
        "from tensorflow.keras.applications.vgg16 import VGG16\n",
        "from tensorflow.keras.preprocessing import image\n",
        "from tensorflow.keras.preprocessing.image import ImageDataGenerator, load_img\n",
        "from glob import glob"
      ]
    },
    {
      "cell_type": "code",
      "execution_count": null,
      "metadata": {
        "colab": {
          "base_uri": "https://localhost:8080/"
        },
        "id": "-nPw25g5vAjZ",
        "outputId": "e0dba4ae-ed20-45c3-d5fa-437b77340901"
      },
      "outputs": [],
      "source": [
        "from google.colab import drive\n",
        "drive.mount('/content/drive')"
      ]
    },
    {
      "cell_type": "code",
      "execution_count": null,
      "metadata": {
        "id": "bHnriYsVbrel"
      },
      "outputs": [],
      "source": [
        "#ROOT_PATH = '/content/drive/MyDrive/005_BOKTIAR_AHMED_BAPPY/My_classes/FSDS-Bootcamp/cat-dog-project'\n",
        "#my_root_path = 'https://drive.google.com/drive/u/0/folders/17SsOmM6NQ9tkDIkE4fsHlt5qc-O74B3c'"
      ]
    },
    {
      "cell_type": "code",
      "execution_count": null,
      "metadata": {
        "id": "kBm33nqjqETS"
      },
      "outputs": [],
      "source": [
        "my_root_path = '/content/drive/MyDrive'"
      ]
    },
    {
      "cell_type": "code",
      "execution_count": null,
      "metadata": {
        "colab": {
          "base_uri": "https://localhost:8080/"
        },
        "id": "weNvCHUjbrnM",
        "outputId": "64e51325-f06b-40b9-c8d9-9120d23836bd"
      },
      "outputs": [],
      "source": [
        "!pwd"
      ]
    },
    {
      "cell_type": "code",
      "execution_count": null,
      "metadata": {
        "colab": {
          "base_uri": "https://localhost:8080/",
          "height": 35
        },
        "id": "gSL7jUaIbrqC",
        "outputId": "5be503f4-19cc-4e27-d8d3-3243802c7546"
      },
      "outputs": [],
      "source": [
        "os.chdir(my_root_path)\n",
        "os.getcwd()"
      ]
    },
    {
      "cell_type": "code",
      "execution_count": null,
      "metadata": {
        "colab": {
          "base_uri": "https://localhost:8080/"
        },
        "id": "wLnDfL4eqhfA",
        "outputId": "ad87288e-b9b5-4465-b89d-5f49f6bf9d78"
      },
      "outputs": [],
      "source": [
        "!ls"
      ]
    },
    {
      "cell_type": "code",
      "execution_count": null,
      "metadata": {
        "id": "jlZEExNPbrvf"
      },
      "outputs": [],
      "source": []
    },
    {
      "cell_type": "markdown",
      "metadata": {
        "id": "jN1yhXzuv4lp"
      },
      "source": [
        "# Importing the VGG-16 model"
      ]
    },
    {
      "cell_type": "markdown",
      "metadata": {
        "id": "zgmqE0Y5wxDP"
      },
      "source": [
        "We are importing the pre-trained VGG16 model along with its weights. For this, we will keep `layer.trainable = False`.\n",
        "\n",
        "- As the pre-trained model already learned about some important features like colors, edges, textures etc., we don't ned to train our model from scratch.\n",
        "\n",
        "- So we will just make some changes in the VGG-16 model to utilyze this existing knowledge to solve our `Image classification` problem.\n",
        "\n",
        "- It redces the training time and resources. It also doesn't need much data as the model is already trained on millions of data.\n",
        "\n"
      ]
    },
    {
      "cell_type": "markdown",
      "metadata": {
        "id": "zvlYhh8Ux8E-"
      },
      "source": [
        "## VGG-16 Architecture:\n",
        "```\n",
        "2C,1P, 2C,1P, 3C, 1P, 3C, 1P, 3C, 1P, 3D layers\n",
        "\n",
        "2   +   2   +  3   +  3   + 3   +      3   = 16 layers\n",
        "\n",
        "```\n",
        "\n",
        "where,\n",
        "\n",
        "C = Convolution layer\n",
        "\n",
        "P = Max Polling layer\n",
        "\n",
        "D = Dense layer\n",
        "\n",
        "\n",
        "CHANGE : We will not take last 3 Dense layers, i.e. the `top layers`. Instead we will add the top layers by ourselves.\n"
      ]
    },
    {
      "cell_type": "code",
      "execution_count": null,
      "metadata": {
        "id": "hOnV5_9JwOHu"
      },
      "outputs": [],
      "source": [
        "IMAGE_SIZE = [224, 224]\n",
        "\n",
        "train_path = 'CatDog/train'\n",
        "valid_path = 'CatDog/valid'\n",
        "test_path = 'CatDog/test'"
      ]
    },
    {
      "cell_type": "code",
      "execution_count": null,
      "metadata": {
        "colab": {
          "base_uri": "https://localhost:8080/"
        },
        "id": "dzcI4xhRbryJ",
        "outputId": "45125b2b-20ac-4701-d707-81f38b24dafe"
      },
      "outputs": [],
      "source": [
        "vgg16_model = VGG16(input_shape = IMAGE_SIZE + [3], weights = 'imagenet', include_top = False)"
      ]
    },
    {
      "cell_type": "code",
      "execution_count": null,
      "metadata": {
        "colab": {
          "base_uri": "https://localhost:8080/"
        },
        "id": "CKN_VQWUbsA1",
        "outputId": "0bfc9681-ba2c-41a0-e00c-34d02fd2d06c"
      },
      "outputs": [],
      "source": [
        "IMAGE_SIZE + [3]"
      ]
    },
    {
      "cell_type": "code",
      "execution_count": null,
      "metadata": {
        "id": "po-vhy4bbr1C"
      },
      "outputs": [],
      "source": []
    },
    {
      "cell_type": "code",
      "execution_count": null,
      "metadata": {
        "id": "1hn3OJfgbr4B"
      },
      "outputs": [],
      "source": [
        "# We do not change existing weights during training.\n",
        "for layer in vgg16_model.layers:\n",
        "  layer.trainable = False"
      ]
    },
    {
      "cell_type": "code",
      "execution_count": null,
      "metadata": {
        "colab": {
          "base_uri": "https://localhost:8080/"
        },
        "id": "OwPKAtwhbr6u",
        "outputId": "b1fd4508-2038-4bc1-d81d-d32c21e710ae"
      },
      "outputs": [],
      "source": [
        "# To check the above\n",
        "for layer in vgg16_model.layers:\n",
        "  print(layer.name, layer.trainable)"
      ]
    },
    {
      "cell_type": "code",
      "execution_count": null,
      "metadata": {
        "colab": {
          "base_uri": "https://localhost:8080/",
          "height": 782
        },
        "id": "iC6zYFqJbr9O",
        "outputId": "eab9acfb-2dec-4f23-aded-80d05357a765"
      },
      "outputs": [],
      "source": [
        "vgg16_model.summary()"
      ]
    },
    {
      "cell_type": "code",
      "execution_count": null,
      "metadata": {
        "id": "NeNxOfUx1OHb"
      },
      "outputs": [],
      "source": []
    },
    {
      "cell_type": "markdown",
      "metadata": {
        "id": "NdZqseF47cJ4"
      },
      "source": [
        "# Importing Images of cats and dogs (from the drive)"
      ]
    },
    {
      "cell_type": "code",
      "execution_count": null,
      "metadata": {
        "colab": {
          "base_uri": "https://localhost:8080/"
        },
        "id": "-W-wkthg1OWU",
        "outputId": "56d178bb-6ff6-498f-905a-aa1338b22753"
      },
      "outputs": [],
      "source": [
        "folders = glob('CatDog/train/*')\n",
        "folders"
      ]
    },
    {
      "cell_type": "code",
      "execution_count": null,
      "metadata": {
        "colab": {
          "base_uri": "https://localhost:8080/"
        },
        "id": "vfIxdPtq1OY5",
        "outputId": "8cd7af85-d0ae-43fa-826b-8c5f9973362c"
      },
      "outputs": [],
      "source": [
        "# To see categories of data\n",
        "len(folders)"
      ]
    },
    {
      "cell_type": "code",
      "execution_count": null,
      "metadata": {
        "id": "KlllnEIx1ObF"
      },
      "outputs": [],
      "source": []
    },
    {
      "cell_type": "markdown",
      "metadata": {
        "id": "fG5vpA7NtOQY"
      },
      "source": [
        "# Adding some changes to our pre-trained VGG-16 model"
      ]
    },
    {
      "cell_type": "code",
      "execution_count": null,
      "metadata": {
        "id": "kKlXWsUY1Odb"
      },
      "outputs": [],
      "source": [
        "model = Sequential()\n",
        "\n",
        "model.add(vgg16_model)\n",
        "model.add(Flatten())\n",
        "\n",
        "model.add(Dense(256, activation = 'relu'))\n",
        "model.add(Dense(2, activation = 'softmax'))"
      ]
    },
    {
      "cell_type": "code",
      "execution_count": null,
      "metadata": {
        "colab": {
          "base_uri": "https://localhost:8080/",
          "height": 272
        },
        "id": "bG9cuNortWIm",
        "outputId": "5bffcf75-4904-4bbf-87cb-ecdbcc62e7fc"
      },
      "outputs": [],
      "source": [
        "model.summary()"
      ]
    },
    {
      "cell_type": "code",
      "execution_count": null,
      "metadata": {
        "id": "fq-SfYWNtWLL"
      },
      "outputs": [],
      "source": []
    },
    {
      "cell_type": "markdown",
      "metadata": {
        "id": "lneDZK8CIPQ2"
      },
      "source": [
        "*NOTE:* If you update the model after compiling the model, it becomes `NoneType`, so don't update the model after compiling like:\n",
        "\n",
        "```\n",
        "model = model.compile()\n",
        "```"
      ]
    },
    {
      "cell_type": "code",
      "execution_count": null,
      "metadata": {
        "id": "Gwu3-4D-tWOC"
      },
      "outputs": [],
      "source": [
        "model.compile(\n",
        "    loss = 'categorical_crossentropy',\n",
        "    optimizer = 'adam',\n",
        "    metrics = ['accuracy']\n",
        ")"
      ]
    },
    {
      "cell_type": "code",
      "execution_count": null,
      "metadata": {
        "colab": {
          "base_uri": "https://localhost:8080/",
          "height": 187
        },
        "id": "iko7gMgr_ht4",
        "outputId": "3980740c-f6f8-4de7-8e2e-34fc50bfbafe"
      },
      "outputs": [],
      "source": [
        "type(model)"
      ]
    },
    {
      "cell_type": "code",
      "execution_count": null,
      "metadata": {
        "id": "ysZTzGlc_pKV"
      },
      "outputs": [],
      "source": []
    },
    {
      "cell_type": "markdown",
      "metadata": {
        "id": "8qwF2y_72lBH"
      },
      "source": [
        "# Preprocess the training images"
      ]
    },
    {
      "cell_type": "code",
      "execution_count": null,
      "metadata": {
        "id": "N_WeAtebtWTL"
      },
      "outputs": [],
      "source": [
        "# Using the ImageDataGenerator to import the images from the dataset\n",
        "\n",
        "train_datagen = ImageDataGenerator(\n",
        "    rescale = 1./255,\n",
        "    shear_range = 0.2,\n",
        "    zoom_range = 0.2,\n",
        "    horizontal_flip = True\n",
        ")\n",
        "\n",
        "test_datagen = ImageDataGenerator(rescale = 1./255)"
      ]
    },
    {
      "cell_type": "code",
      "execution_count": null,
      "metadata": {
        "id": "EVrmjS_6tWWB"
      },
      "outputs": [],
      "source": []
    },
    {
      "cell_type": "markdown",
      "metadata": {
        "id": "PCVd8ZOj3hAR"
      },
      "source": [
        "# Creating Train and test dataset from datagen"
      ]
    },
    {
      "cell_type": "code",
      "execution_count": null,
      "metadata": {
        "colab": {
          "base_uri": "https://localhost:8080/"
        },
        "id": "FWS5nUJMtWYu",
        "outputId": "83f03f27-d05b-458e-b539-5ff35aad0d1d"
      },
      "outputs": [],
      "source": [
        "train_set = train_datagen.flow_from_directory(\n",
        "    'CatDog/train',\n",
        "    target_size = (224, 224),\n",
        "    batch_size = 32,\n",
        "    class_mode = 'categorical'\n",
        ")"
      ]
    },
    {
      "cell_type": "code",
      "execution_count": null,
      "metadata": {
        "colab": {
          "base_uri": "https://localhost:8080/"
        },
        "id": "yqyZ8NugtWbf",
        "outputId": "8b8ec8d9-f50a-4232-c3a9-8202e6dd56a8"
      },
      "outputs": [],
      "source": [
        "test_set  = test_datagen.flow_from_directory(\n",
        "    'CatDog/valid',\n",
        "    target_size = (224, 224),\n",
        "    batch_size = 32,\n",
        "    class_mode = 'categorical'\n",
        ")"
      ]
    },
    {
      "cell_type": "code",
      "execution_count": null,
      "metadata": {
        "id": "ZMLirWvFtWeX"
      },
      "outputs": [],
      "source": []
    },
    {
      "cell_type": "code",
      "execution_count": null,
      "metadata": {
        "colab": {
          "base_uri": "https://localhost:8080/"
        },
        "id": "xQzJ-XjRtWhr",
        "outputId": "2a4937a4-1bd9-47be-9333-7c2382976d4b"
      },
      "outputs": [],
      "source": [
        "m_his = model.fit(train_set,\n",
        "                  validation_data = test_set,\n",
        "                  epochs = 10,\n",
        "                  steps_per_epoch = len(train_set),\n",
        "                  validation_steps= len(test_set))"
      ]
    },
    {
      "cell_type": "code",
      "execution_count": null,
      "metadata": {
        "id": "zq2vMh-K1OgB"
      },
      "outputs": [],
      "source": []
    },
    {
      "cell_type": "markdown",
      "metadata": {
        "id": "jKrHgjHv50VD"
      },
      "source": [
        "# Visualize the performance"
      ]
    },
    {
      "cell_type": "code",
      "execution_count": null,
      "metadata": {
        "id": "_49HAjI75ylz"
      },
      "outputs": [],
      "source": [
        "import matplotlib.pyplot as plt"
      ]
    },
    {
      "cell_type": "code",
      "execution_count": null,
      "metadata": {
        "colab": {
          "base_uri": "https://localhost:8080/",
          "height": 447
        },
        "id": "Ss9f0wTT5yol",
        "outputId": "1a6ce60e-fc5d-4a5d-befe-97916fbe5f05"
      },
      "outputs": [],
      "source": [
        "# Plotting the loss\n",
        "plt.plot(m_his.history['loss'], label = 'train_loss')\n",
        "plt.plot(m_his.history['val_loss'], label = 'val_loss')\n",
        "plt.legend()\n",
        "plt.show()\n",
        "plt.savefig('loss_graph')"
      ]
    },
    {
      "cell_type": "code",
      "execution_count": null,
      "metadata": {
        "id": "HsUaQB3z5yrf"
      },
      "outputs": [],
      "source": []
    },
    {
      "cell_type": "code",
      "execution_count": null,
      "metadata": {
        "colab": {
          "base_uri": "https://localhost:8080/",
          "height": 447
        },
        "id": "8sYE8jaK5yu_",
        "outputId": "d2fed281-2196-44c9-d541-2a55a1c4a33a"
      },
      "outputs": [],
      "source": [
        "# Plotting the accuracy\n",
        "plt.plot(m_his.history['accuracy'], label = 'train_accuracy')\n",
        "plt.plot(m_his.history['val_accuracy'], label = 'val_accuracy')\n",
        "plt.legend()\n",
        "plt.show()\n",
        "plt.savefig('accuracy_graph')"
      ]
    },
    {
      "cell_type": "code",
      "execution_count": null,
      "metadata": {
        "id": "98i3eKsL5yxn"
      },
      "outputs": [],
      "source": []
    },
    {
      "cell_type": "markdown",
      "metadata": {
        "id": "-ITC9eKA7FkO"
      },
      "source": [
        "# Saving the VGG-16 MODIFIED model"
      ]
    },
    {
      "cell_type": "code",
      "execution_count": null,
      "metadata": {
        "id": "c2-Filr15y0i"
      },
      "outputs": [],
      "source": [
        "#model.save('vgg19_modified.h5')\n",
        "#model.model.save('vgg19_modified_model.h5')      # model is History class's object, it doesn't have save() but have 'model' property and it has save()\n",
        "\n",
        "model.save('vgg16_modified_model.keras')"
      ]
    },
    {
      "cell_type": "code",
      "execution_count": null,
      "metadata": {
        "id": "sx1A0fK-5y6i"
      },
      "outputs": [],
      "source": []
    },
    {
      "cell_type": "markdown",
      "metadata": {
        "id": "6OsWgGO-86r2"
      },
      "source": [
        "# Prediction / Classification"
      ]
    },
    {
      "cell_type": "code",
      "execution_count": null,
      "metadata": {
        "colab": {
          "base_uri": "https://localhost:8080/"
        },
        "id": "glC_4Jc75y9S",
        "outputId": "19fccb4f-1358-455a-f194-bd5c6334986e"
      },
      "outputs": [],
      "source": [
        "y_pred = model.predict(test_set)"
      ]
    },
    {
      "cell_type": "code",
      "execution_count": null,
      "metadata": {
        "colab": {
          "base_uri": "https://localhost:8080/"
        },
        "id": "keXw-Hc05zAP",
        "outputId": "5e3c722e-0b47-427d-894f-180f83c6cb2c"
      },
      "outputs": [],
      "source": [
        "y_pred"
      ]
    },
    {
      "cell_type": "code",
      "execution_count": null,
      "metadata": {
        "id": "ES7tZ6Wf5zDy"
      },
      "outputs": [],
      "source": []
    },
    {
      "cell_type": "code",
      "execution_count": null,
      "metadata": {
        "id": "xx1J389d9mPu"
      },
      "outputs": [],
      "source": [
        "import numpy as np\n",
        "\n",
        "y_pred = np.argmax(y_pred, axis = 1)"
      ]
    },
    {
      "cell_type": "code",
      "execution_count": null,
      "metadata": {
        "colab": {
          "base_uri": "https://localhost:8080/"
        },
        "id": "-VCkRR0m9mSR",
        "outputId": "231999e7-7564-425d-b816-c96550bed9d2"
      },
      "outputs": [],
      "source": [
        "y_pred"
      ]
    },
    {
      "cell_type": "code",
      "execution_count": null,
      "metadata": {
        "id": "8fjNJHXB9mU-"
      },
      "outputs": [],
      "source": []
    },
    {
      "cell_type": "markdown",
      "metadata": {
        "id": "2GppgsZqAwQd"
      },
      "source": [
        "# Displaying Image classification of cats and dogs"
      ]
    },
    {
      "cell_type": "code",
      "execution_count": null,
      "metadata": {
        "id": "axkFt23v9mX3"
      },
      "outputs": [],
      "source": [
        "# Loading the saved model\n",
        "mod = load_model('vgg16_modified_model.keras')"
      ]
    },
    {
      "cell_type": "code",
      "execution_count": null,
      "metadata": {
        "colab": {
          "base_uri": "https://localhost:8080/",
          "height": 187
        },
        "id": "2UV_5tCT9mau",
        "outputId": "86dfc3f2-6975-4564-bfee-e93a1b4e88db"
      },
      "outputs": [],
      "source": [
        "type(mod)"
      ]
    },
    {
      "cell_type": "code",
      "execution_count": null,
      "metadata": {
        "id": "xGK-g15Z9mgO"
      },
      "outputs": [],
      "source": [
        "test_img = load_img('CatDog/test/dog/7_jpg.rf.328af46a3c47760288da55cb4578c658.jpg')"
      ]
    },
    {
      "cell_type": "code",
      "execution_count": null,
      "metadata": {
        "colab": {
          "base_uri": "https://localhost:8080/",
          "height": 121
        },
        "id": "vdOcymUZ9miw",
        "outputId": "28e3db87-a161-4c26-f5a0-a10db6b0a55a"
      },
      "outputs": [],
      "source": [
        "type(test_img)"
      ]
    },
    {
      "cell_type": "code",
      "execution_count": null,
      "metadata": {
        "id": "HsxR9tG79mlW"
      },
      "outputs": [],
      "source": []
    },
    {
      "cell_type": "code",
      "execution_count": null,
      "metadata": {
        "colab": {
          "base_uri": "https://localhost:8080/"
        },
        "id": "bpgdRIUa9mo2",
        "outputId": "8eba107b-813e-49ff-874b-7e8ae38013de"
      },
      "outputs": [],
      "source": [
        "# Converting this image to array\n",
        "\n",
        "x = image.img_to_array(test_img)\n",
        "x"
      ]
    },
    {
      "cell_type": "code",
      "execution_count": null,
      "metadata": {
        "id": "r7_HkkOYDRmu"
      },
      "outputs": [],
      "source": []
    },
    {
      "cell_type": "code",
      "execution_count": null,
      "metadata": {
        "colab": {
          "base_uri": "https://localhost:8080/",
          "height": 451
        },
        "id": "Yry9WUmLDRpU",
        "outputId": "76b41977-17f4-48a0-eb95-a7e68f841d7f"
      },
      "outputs": [],
      "source": [
        "z = plt.imread('CatDog/test/dog/7_jpg.rf.328af46a3c47760288da55cb4578c658.jpg')\n",
        "plt.imshow(z)"
      ]
    },
    {
      "cell_type": "code",
      "execution_count": null,
      "metadata": {
        "colab": {
          "base_uri": "https://localhost:8080/"
        },
        "id": "AF8n37TUDRvF",
        "outputId": "4e5d4bce-d8d2-4eca-c720-a220e87911d5"
      },
      "outputs": [],
      "source": [
        "z.shape"
      ]
    },
    {
      "cell_type": "code",
      "execution_count": null,
      "metadata": {
        "colab": {
          "base_uri": "https://localhost:8080/"
        },
        "id": "FJFbyeuUDRsP",
        "outputId": "029bca78-9fd4-4361-947e-1d58155812f0"
      },
      "outputs": [],
      "source": [
        "x.shape"
      ]
    },
    {
      "cell_type": "code",
      "execution_count": null,
      "metadata": {
        "id": "o60s3XheDRyG"
      },
      "outputs": [],
      "source": []
    },
    {
      "cell_type": "markdown",
      "metadata": {
        "id": "sre9d5qlEQ3C"
      },
      "source": [
        "## Preprocess test input image"
      ]
    },
    {
      "cell_type": "code",
      "execution_count": null,
      "metadata": {
        "colab": {
          "base_uri": "https://localhost:8080/"
        },
        "id": "oEZhrN_jDzaw",
        "outputId": "6e7ea8c2-bf30-4b13-d100-32163f95d825"
      },
      "outputs": [],
      "source": [
        "x = x/255\n",
        "x"
      ]
    },
    {
      "cell_type": "code",
      "execution_count": null,
      "metadata": {
        "id": "B3terVV5DzXf"
      },
      "outputs": [],
      "source": []
    },
    {
      "cell_type": "code",
      "execution_count": null,
      "metadata": {
        "id": "Aw4GyIvODzU2"
      },
      "outputs": [],
      "source": [
        "from keras.applications.vgg16 import preprocess_input"
      ]
    },
    {
      "cell_type": "code",
      "execution_count": null,
      "metadata": {
        "colab": {
          "base_uri": "https://localhost:8080/"
        },
        "id": "Q00k_fJSDzSN",
        "outputId": "7e17308c-73cb-4c3e-cd86-e7268dc8e6f0"
      },
      "outputs": [],
      "source": [
        "import numpy as np\n",
        "x = np.expand_dims(x, axis = 0)\n",
        "img_data = preprocess_input(x)\n",
        "img_data.shape"
      ]
    },
    {
      "cell_type": "code",
      "execution_count": null,
      "metadata": {
        "colab": {
          "base_uri": "https://localhost:8080/"
        },
        "id": "BKDbVCvIDzPV",
        "outputId": "152e08f6-5284-4c18-c512-3fad507e0fb6"
      },
      "outputs": [],
      "source": [
        "test_pred = mod.predict(img_data)"
      ]
    },
    {
      "cell_type": "code",
      "execution_count": null,
      "metadata": {
        "colab": {
          "base_uri": "https://localhost:8080/"
        },
        "id": "TFIISk_yDzMi",
        "outputId": "22d92be9-eaef-46fd-bccd-931ecad658cb"
      },
      "outputs": [],
      "source": [
        "test_pred       # [cat, dog]"
      ]
    },
    {
      "cell_type": "code",
      "execution_count": null,
      "metadata": {
        "colab": {
          "base_uri": "https://localhost:8080/"
        },
        "id": "4iK4-FeIDzJv",
        "outputId": "a90b8ac1-befb-4593-da09-41d8987db3e3"
      },
      "outputs": [],
      "source": [
        "result = np.argmax(test_pred, axis = 1)\n",
        "result"
      ]
    },
    {
      "cell_type": "code",
      "execution_count": null,
      "metadata": {
        "colab": {
          "base_uri": "https://localhost:8080/"
        },
        "id": "quK6dh_bDR1g",
        "outputId": "98feb083-544d-4c22-fe1b-9d7201db8f4f"
      },
      "outputs": [],
      "source": [
        "result[0]"
      ]
    },
    {
      "cell_type": "code",
      "execution_count": null,
      "metadata": {
        "colab": {
          "base_uri": "https://localhost:8080/"
        },
        "id": "U1LM98X-DR9o",
        "outputId": "dbae2d45-dd0e-47f6-95cd-7948f5c08a3f"
      },
      "outputs": [],
      "source": [
        "if result[0] == 1:\n",
        "  test_pred = 'dog'\n",
        "  print(test_pred)\n",
        "\n",
        "else:\n",
        "  test_pred = 'cat'\n",
        "  print(test_pred)"
      ]
    },
    {
      "cell_type": "markdown",
      "metadata": {
        "id": "qarIYFgoJ2zc"
      },
      "source": [
        "# NOTE: Correct Classification of the given input dog image."
      ]
    },
    {
      "cell_type": "code",
      "execution_count": null,
      "metadata": {
        "id": "fr5fgd6EDSBG"
      },
      "outputs": [],
      "source": []
    },
    {
      "cell_type": "code",
      "execution_count": null,
      "metadata": {
        "id": "HMCNjAyTDLXe"
      },
      "outputs": [],
      "source": []
    }
  ],
  "metadata": {
    "accelerator": "GPU",
    "colab": {
      "gpuType": "T4",
      "provenance": []
    },
    "kernelspec": {
      "display_name": "Python 3",
      "name": "python3"
    },
    "language_info": {
      "name": "python",
      "version": "-1.-1.-1"
    }
  },
  "nbformat": 4,
  "nbformat_minor": 0
}
